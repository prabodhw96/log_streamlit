{
 "cells": [
  {
   "cell_type": "code",
   "execution_count": 1,
   "metadata": {},
   "outputs": [],
   "source": [
    "import numpy as np\n",
    "import pandas as pd"
   ]
  },
  {
   "cell_type": "code",
   "execution_count": 9,
   "metadata": {},
   "outputs": [],
   "source": [
    "df = pd.DataFrame(columns=[\"Experiment\", \"PER (env_corruption)\", \"PER\"])"
   ]
  },
  {
   "cell_type": "code",
   "execution_count": 25,
   "metadata": {},
   "outputs": [],
   "source": [
    "df = df.append({\"Experiment\": \"Single channel\", \"PER (env_corruption)\":29.15, \"PER\":29.54}, ignore_index=True)\n",
    "df = df.append({\"Experiment\": \"Delay and sum beamforming\", \"PER (env_corruption)\":27.0, \"PER\":28.01}, ignore_index=True)\n",
    "df = df.append({\"Experiment\": \"MVDR beamforming\", \"PER (env_corruption)\":28.32, \"PER\":28.93}, ignore_index=True)\n",
    "df = df.append({\"Experiment\": \"GeV beamforming\", \"PER (env_corruption)\":28.29, \"PER\":28.25}, ignore_index=True)\n",
    "df = df.append({\"Experiment\": \"BeamformIt\", \"PER (env_corruption)\":26.48, \"PER\":27.05}, ignore_index=True)\n",
    "df = df.append({\"Experiment\": \"Beamforming on the fly\", \"PER (env_corruption)\":27.61, \"PER\":27.72}, ignore_index=True)\n",
    "df = df.append({\"Experiment\": \"Average of probabilities\", \"PER (env_corruption)\":25.8, \"PER\":26.28}, ignore_index=True)\n",
    "df = df.append({\"Experiment\": \"Early concatenation\", \"PER (env_corruption)\":24.89, \"PER\":25.76}, ignore_index=True)\n",
    "df = df.append({\"Experiment\": \"Mid-concatenation\", \"PER (env_corruption)\":24.76, \"PER\":25.8}, ignore_index=True)\n",
    "df = df.append({\"Experiment\": \"Late concatenation\", \"PER (env_corruption)\":26.33, \"PER\":26.01}, ignore_index=True)"
   ]
  },
  {
   "cell_type": "code",
   "execution_count": 33,
   "metadata": {},
   "outputs": [],
   "source": [
    "df = df.sort_values(by=\"PER (env_corruption)\").reset_index(drop=True)"
   ]
  },
  {
   "cell_type": "code",
   "execution_count": 34,
   "metadata": {},
   "outputs": [],
   "source": [
    "df.to_csv(\"PER.csv\", index=False)"
   ]
  },
  {
   "cell_type": "code",
   "execution_count": null,
   "metadata": {},
   "outputs": [],
   "source": []
  }
 ],
 "metadata": {
  "kernelspec": {
   "display_name": "Python 3",
   "language": "python",
   "name": "python3"
  },
  "language_info": {
   "codemirror_mode": {
    "name": "ipython",
    "version": 3
   },
   "file_extension": ".py",
   "mimetype": "text/x-python",
   "name": "python",
   "nbconvert_exporter": "python",
   "pygments_lexer": "ipython3",
   "version": "3.7.7"
  }
 },
 "nbformat": 4,
 "nbformat_minor": 4
}
